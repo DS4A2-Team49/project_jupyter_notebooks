{
 "cells": [
  {
   "cell_type": "code",
   "execution_count": 2,
   "id": "6e9580d8",
   "metadata": {},
   "outputs": [
    {
     "name": "stdout",
     "output_type": "stream",
     "text": [
      "Collecting Googlenews\n",
      "  Using cached GoogleNews-1.5.8-py3-none-any.whl (7.7 kB)\n",
      "Requirement already satisfied: python-dateutil in /opt/conda/lib/python3.8/site-packages (from Googlenews) (2.8.1)\n",
      "Collecting beautifulsoup4\n",
      "  Using cached beautifulsoup4-4.9.3-py3-none-any.whl (115 kB)\n",
      "Collecting dateparser\n",
      "  Using cached dateparser-1.0.0-py2.py3-none-any.whl (279 kB)\n",
      "Collecting soupsieve>1.2\n",
      "  Using cached soupsieve-2.2.1-py3-none-any.whl (33 kB)\n",
      "Collecting tzlocal\n",
      "  Using cached tzlocal-2.1-py2.py3-none-any.whl (16 kB)\n",
      "Collecting regex!=2019.02.19\n",
      "  Using cached regex-2021.7.6-cp38-cp38-manylinux2014_x86_64.whl (737 kB)\n",
      "Requirement already satisfied: pytz in /opt/conda/lib/python3.8/site-packages (from dateparser->Googlenews) (2021.1)\n",
      "Requirement already satisfied: six>=1.5 in /opt/conda/lib/python3.8/site-packages (from python-dateutil->Googlenews) (1.15.0)\n",
      "Installing collected packages: tzlocal, soupsieve, regex, dateparser, beautifulsoup4, Googlenews\n",
      "Successfully installed Googlenews-1.5.8 beautifulsoup4-4.9.3 dateparser-1.0.0 regex-2021.7.6 soupsieve-2.2.1 tzlocal-2.1\n",
      "Note: you may need to restart the kernel to use updated packages.\n"
     ]
    }
   ],
   "source": [
    "pip install Googlenews\n"
   ]
  },
  {
   "cell_type": "code",
   "execution_count": 3,
   "id": "034ebda4",
   "metadata": {},
   "outputs": [],
   "source": [
    "#import libraries\n",
    "from GoogleNews import GoogleNews\n",
    "#from newspaper import Article\n",
    "import pandas as pd\n",
    "import numpy as np\n",
    "from datetime import date, datetime, timedelta\n",
    "\n",
    "#Display full dataFrames\n",
    "pd.set_option(\"display.max_rows\", None, \"display.max_columns\", None)"
   ]
  },
  {
   "cell_type": "code",
   "execution_count": 4,
   "id": "cc5bd2fd",
   "metadata": {},
   "outputs": [],
   "source": [
    "def get_news(start_date, end_date):\n",
    "    # Automated dates starting today and going back 2 years\n",
    "    \n",
    "    # Initialize GoogleNews() object\n",
    "    googlenews = GoogleNews(start=start_date, end=end_date)\n",
    "    \n",
    "    # Set search term(s)\n",
    "    search_term = 'Seattle SPD police'\n",
    "    googlenews.search(search_term)\n",
    "    \n",
    "    return googlenews"
   ]
  },
  {
   "cell_type": "code",
   "execution_count": 7,
   "id": "d585718f",
   "metadata": {},
   "outputs": [],
   "source": [
    "def convert_news(start_date, end_date,start=2, finish=20):\n",
    "    results_df_list = []\n",
    "    googlenews = get_news(start_date, end_date)\n",
    "    \n",
    "    results_df_list.append(pd.DataFrame(googlenews.result()))\n",
    "    \n",
    "    for i in range(start,finish): #inclusive\n",
    "        googlenews.getpage(i)\n",
    "        news_df= pd.DataFrame(googlenews.result())\n",
    "        news_df['date']=start_date\n",
    "        results_df_list.append(news_df)\n",
    "        \n",
    "    return pd.concat(results_df_list)"
   ]
  },
  {
   "cell_type": "code",
   "execution_count": 8,
   "id": "a27af085",
   "metadata": {},
   "outputs": [],
   "source": [
    "def combine_save_df(start_date, end_date):\n",
    "    all_news = pd.DataFrame(convert_news(start_date, end_date)).reset_index()\n",
    "    all_news.to_csv(\"news_gathered_data{}.csv\".format(start_date.replace(\"/\", \"\")), index=False)\n",
    "    print('News file has been saved to \\\"news_gathered_data{}.csv\\\"'.format(start_date.replace(\"/\", \"\")))\n",
    "    return all_news"
   ]
  },
  {
   "cell_type": "markdown",
   "id": "507eb73f",
   "metadata": {},
   "source": [
    "### Each google news search produces the number of articles on a page (up to 10).  In order to get more information, we need to:\n",
    "1. Iterate through the number of pages wanted, for examle 50 for 500 results\n",
    "2. Turn each resulting result into a dataframe \n",
    "3. Add dataframe to a list\n",
    "4. Concat all all dataframes in list into one large dataframe"
   ]
  },
  {
   "cell_type": "code",
   "execution_count": null,
   "id": "276be702",
   "metadata": {},
   "outputs": [],
   "source": [
    "date.today().year"
   ]
  },
  {
   "cell_type": "code",
   "execution_count": null,
   "id": "b4da3fb2",
   "metadata": {},
   "outputs": [],
   "source": [
    "date_='08/01/2020'\n",
    "\n",
    "new_date=datetime.strptime(date_, '%m/%d/%Y').date()\n",
    "print(\"the day is \", new_date)  \n",
    "new_date + timedelta(days=30)\n",
    "date_[3:5]\n",
    "date_.replace(\"/\", \"\")"
   ]
  },
  {
   "cell_type": "code",
   "execution_count": 34,
   "id": "32b9bd43",
   "metadata": {},
   "outputs": [
    {
     "name": "stdout",
     "output_type": "stream",
     "text": [
      "HTTP Error 429: Too Many Requests\n",
      "HTTP Error 429: Too Many Requests\n",
      "HTTP Error 429: Too Many Requests\n",
      "HTTP Error 429: Too Many Requests\n",
      "HTTP Error 429: Too Many Requests\n",
      "HTTP Error 429: Too Many Requests\n",
      "HTTP Error 429: Too Many Requests\n",
      "HTTP Error 429: Too Many Requests\n",
      "HTTP Error 429: Too Many Requests\n",
      "HTTP Error 429: Too Many Requests\n",
      "HTTP Error 429: Too Many Requests\n",
      "HTTP Error 429: Too Many Requests\n",
      "HTTP Error 429: Too Many Requests\n",
      "HTTP Error 429: Too Many Requests\n",
      "HTTP Error 429: Too Many Requests\n",
      "HTTP Error 429: Too Many Requests\n",
      "HTTP Error 429: Too Many Requests\n",
      "HTTP Error 429: Too Many Requests\n",
      "HTTP Error 429: Too Many Requests\n",
      "News file has been saved to \"news_gathered_data09012019.csv\"\n",
      "09/01/2019 ,  10/01/2019\n"
     ]
    }
   ],
   "source": [
    "#iterating through months until today\n",
    "start_year=2019\n",
    "#for start in range(start_year,date.today().year+1):\n",
    "for i in range(9,10):\n",
    "    start_date = \"0{}/01/{}\".format(i,start_year)\n",
    "    new_date=datetime.strptime(start_date, '%m/%d/%Y').date()\n",
    "    if new_date+timedelta(days=30) < date.today():\n",
    "        end_date = (new_date+timedelta(days=30)).strftime('%m/%d/%Y')\n",
    "    else:\n",
    "        end_date = date.today().strftime('%m/%d/%Y')\n",
    "    combine_save_df(start_date,end_date)\n",
    "    print( start_date,\", \", end_date)\n",
    "#start_year+=1"
   ]
  },
  {
   "cell_type": "code",
   "execution_count": 21,
   "id": "d61a434e",
   "metadata": {},
   "outputs": [],
   "source": [
    "df1 = pd.read_csv(\"news_gathered_data01012019.csv\") "
   ]
  },
  {
   "cell_type": "code",
   "execution_count": 22,
   "id": "fcf9c927",
   "metadata": {},
   "outputs": [],
   "source": [
    "df2 = pd.read_csv(\"news_gathered_data02012019.csv\") "
   ]
  },
  {
   "cell_type": "code",
   "execution_count": 23,
   "id": "b29270d3",
   "metadata": {},
   "outputs": [],
   "source": [
    "df3 = pd.read_csv(\"news_gathered_data03012019.csv\") "
   ]
  },
  {
   "cell_type": "code",
   "execution_count": 24,
   "id": "908b11a7",
   "metadata": {},
   "outputs": [],
   "source": [
    "df4 = pd.read_csv(\"news_gathered_data04012019.csv\") "
   ]
  },
  {
   "cell_type": "code",
   "execution_count": 25,
   "id": "a6214de9",
   "metadata": {},
   "outputs": [],
   "source": [
    "df5 = pd.read_csv(\"news_gathered_data05012019.csv\") "
   ]
  },
  {
   "cell_type": "code",
   "execution_count": 26,
   "id": "1065beaa",
   "metadata": {},
   "outputs": [],
   "source": [
    "df6 = pd.read_csv(\"news_gathered_data06012019.csv\") "
   ]
  },
  {
   "cell_type": "code",
   "execution_count": 27,
   "id": "24259773",
   "metadata": {},
   "outputs": [],
   "source": [
    "df7 = pd.read_csv(\"news_gathered_data07012019.csv\") "
   ]
  },
  {
   "cell_type": "code",
   "execution_count": 28,
   "id": "fe4148a3",
   "metadata": {},
   "outputs": [],
   "source": [
    "df8 = pd.read_csv(\"news_gathered_data08012019.csv\") "
   ]
  },
  {
   "cell_type": "code",
   "execution_count": 35,
   "id": "813a375d",
   "metadata": {},
   "outputs": [],
   "source": [
    "df9 = pd.read_csv(\"news_gathered_data09012019.csv\") #START HERE"
   ]
  },
  {
   "cell_type": "code",
   "execution_count": 37,
   "id": "27320374",
   "metadata": {},
   "outputs": [
    {
     "data": {
      "text/plain": [
       "(0, 2)"
      ]
     },
     "execution_count": 37,
     "metadata": {},
     "output_type": "execute_result"
    }
   ],
   "source": [
    "df9.shape"
   ]
  },
  {
   "cell_type": "code",
   "execution_count": 29,
   "id": "abf95e6d",
   "metadata": {},
   "outputs": [],
   "source": [
    "list_of_df_results=[df1,df2,df3,df4,df5,df6,df7,df8]"
   ]
  },
  {
   "cell_type": "code",
   "execution_count": 30,
   "id": "8c588b04",
   "metadata": {},
   "outputs": [],
   "source": [
    "new_df= pd.concat(list_of_df_results)"
   ]
  },
  {
   "cell_type": "code",
   "execution_count": 31,
   "id": "670c29a0",
   "metadata": {},
   "outputs": [
    {
     "data": {
      "text/html": [
       "<div>\n",
       "<style scoped>\n",
       "    .dataframe tbody tr th:only-of-type {\n",
       "        vertical-align: middle;\n",
       "    }\n",
       "\n",
       "    .dataframe tbody tr th {\n",
       "        vertical-align: top;\n",
       "    }\n",
       "\n",
       "    .dataframe thead th {\n",
       "        text-align: right;\n",
       "    }\n",
       "</style>\n",
       "<table border=\"1\" class=\"dataframe\">\n",
       "  <thead>\n",
       "    <tr style=\"text-align: right;\">\n",
       "      <th></th>\n",
       "      <th>index</th>\n",
       "      <th>title</th>\n",
       "      <th>media</th>\n",
       "      <th>date</th>\n",
       "      <th>datetime</th>\n",
       "      <th>desc</th>\n",
       "      <th>link</th>\n",
       "      <th>img</th>\n",
       "    </tr>\n",
       "  </thead>\n",
       "  <tbody>\n",
       "    <tr>\n",
       "      <th>0</th>\n",
       "      <td>0</td>\n",
       "      <td>Seattle police release video of fatal shooting...</td>\n",
       "      <td>The Seattle Times</td>\n",
       "      <td>01/01/2019</td>\n",
       "      <td>NaN</td>\n",
       "      <td>Faletogo died of a gunshot wound to the head, ...</td>\n",
       "      <td>https://www.seattletimes.com/seattle-news/crim...</td>\n",
       "      <td>data:image/gif;base64,R0lGODlhAQABAIAAAP//////...</td>\n",
       "    </tr>\n",
       "    <tr>\n",
       "      <th>1</th>\n",
       "      <td>1</td>\n",
       "      <td>Fatal Seattle police shooting will test new ac...</td>\n",
       "      <td>Crosscut</td>\n",
       "      <td>01/01/2019</td>\n",
       "      <td>NaN</td>\n",
       "      <td>Faletogo was stopped by police officers while ...</td>\n",
       "      <td>https://crosscut.com/2019/01/fatal-seattle-pol...</td>\n",
       "      <td>data:image/gif;base64,R0lGODlhAQABAIAAAP//////...</td>\n",
       "    </tr>\n",
       "    <tr>\n",
       "      <th>2</th>\n",
       "      <td>2</td>\n",
       "      <td>Seattle Police release body cam footage in fat...</td>\n",
       "      <td>MyNorthwest.com</td>\n",
       "      <td>01/01/2019</td>\n",
       "      <td>NaN</td>\n",
       "      <td>The Seattle Police Department released the bod...</td>\n",
       "      <td>https://mynorthwest.com/1232749/seattle-police...</td>\n",
       "      <td>data:image/gif;base64,R0lGODlhAQABAIAAAP//////...</td>\n",
       "    </tr>\n",
       "    <tr>\n",
       "      <th>3</th>\n",
       "      <td>3</td>\n",
       "      <td>Former Seattle police chief Jim Pugel will run...</td>\n",
       "      <td>The Seattle Times</td>\n",
       "      <td>01/01/2019</td>\n",
       "      <td>NaN</td>\n",
       "      <td>More than two dozen candidates are running acr...</td>\n",
       "      <td>https://www.seattletimes.com/seattle-news/poli...</td>\n",
       "      <td>data:image/gif;base64,R0lGODlhAQABAIAAAP//////...</td>\n",
       "    </tr>\n",
       "    <tr>\n",
       "      <th>4</th>\n",
       "      <td>4</td>\n",
       "      <td>Judge dismisses claims against 2 Seattle polic...</td>\n",
       "      <td>The Seattle Times</td>\n",
       "      <td>01/01/2019</td>\n",
       "      <td>NaN</td>\n",
       "      <td>Lyles had a history of contacts with SPD, most...</td>\n",
       "      <td>https://www.seattletimes.com/seattle-news/crim...</td>\n",
       "      <td>data:image/gif;base64,R0lGODlhAQABAIAAAP//////...</td>\n",
       "    </tr>\n",
       "  </tbody>\n",
       "</table>\n",
       "</div>"
      ],
      "text/plain": [
       "   index                                              title  \\\n",
       "0      0  Seattle police release video of fatal shooting...   \n",
       "1      1  Fatal Seattle police shooting will test new ac...   \n",
       "2      2  Seattle Police release body cam footage in fat...   \n",
       "3      3  Former Seattle police chief Jim Pugel will run...   \n",
       "4      4  Judge dismisses claims against 2 Seattle polic...   \n",
       "\n",
       "               media        date  datetime  \\\n",
       "0  The Seattle Times  01/01/2019       NaN   \n",
       "1           Crosscut  01/01/2019       NaN   \n",
       "2    MyNorthwest.com  01/01/2019       NaN   \n",
       "3  The Seattle Times  01/01/2019       NaN   \n",
       "4  The Seattle Times  01/01/2019       NaN   \n",
       "\n",
       "                                                desc  \\\n",
       "0  Faletogo died of a gunshot wound to the head, ...   \n",
       "1  Faletogo was stopped by police officers while ...   \n",
       "2  The Seattle Police Department released the bod...   \n",
       "3  More than two dozen candidates are running acr...   \n",
       "4  Lyles had a history of contacts with SPD, most...   \n",
       "\n",
       "                                                link  \\\n",
       "0  https://www.seattletimes.com/seattle-news/crim...   \n",
       "1  https://crosscut.com/2019/01/fatal-seattle-pol...   \n",
       "2  https://mynorthwest.com/1232749/seattle-police...   \n",
       "3  https://www.seattletimes.com/seattle-news/poli...   \n",
       "4  https://www.seattletimes.com/seattle-news/crim...   \n",
       "\n",
       "                                                 img  \n",
       "0  data:image/gif;base64,R0lGODlhAQABAIAAAP//////...  \n",
       "1  data:image/gif;base64,R0lGODlhAQABAIAAAP//////...  \n",
       "2  data:image/gif;base64,R0lGODlhAQABAIAAAP//////...  \n",
       "3  data:image/gif;base64,R0lGODlhAQABAIAAAP//////...  \n",
       "4  data:image/gif;base64,R0lGODlhAQABAIAAAP//////...  "
      ]
     },
     "execution_count": 31,
     "metadata": {},
     "output_type": "execute_result"
    }
   ],
   "source": [
    "new_df.head()"
   ]
  },
  {
   "cell_type": "code",
   "execution_count": 32,
   "id": "80db4129",
   "metadata": {},
   "outputs": [
    {
     "data": {
      "text/plain": [
       "(13450, 8)"
      ]
     },
     "execution_count": 32,
     "metadata": {},
     "output_type": "execute_result"
    }
   ],
   "source": [
    "new_df.shape"
   ]
  },
  {
   "cell_type": "code",
   "execution_count": 33,
   "id": "1061592b",
   "metadata": {},
   "outputs": [],
   "source": [
    "new_df.to_csv(\"full_dataset.csv\")"
   ]
  },
  {
   "cell_type": "code",
   "execution_count": null,
   "id": "ccd5ad3b",
   "metadata": {},
   "outputs": [],
   "source": []
  }
 ],
 "metadata": {
  "kernelspec": {
   "display_name": "Python 3",
   "language": "python",
   "name": "python3"
  },
  "language_info": {
   "codemirror_mode": {
    "name": "ipython",
    "version": 3
   },
   "file_extension": ".py",
   "mimetype": "text/x-python",
   "name": "python",
   "nbconvert_exporter": "python",
   "pygments_lexer": "ipython3",
   "version": "3.8.8"
  }
 },
 "nbformat": 4,
 "nbformat_minor": 5
}
