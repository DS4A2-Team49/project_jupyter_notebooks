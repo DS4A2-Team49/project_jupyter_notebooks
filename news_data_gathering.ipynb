{
 "cells": [
  {
   "cell_type": "code",
   "execution_count": 1,
   "id": "6e9580d8",
   "metadata": {},
   "outputs": [
    {
     "name": "stdout",
     "output_type": "stream",
     "text": [
      "Requirement already satisfied: Googlenews in /opt/conda/lib/python3.8/site-packages (1.5.8)\n",
      "Requirement already satisfied: python-dateutil in /opt/conda/lib/python3.8/site-packages (from Googlenews) (2.8.1)\n",
      "Requirement already satisfied: beautifulsoup4 in /opt/conda/lib/python3.8/site-packages (from Googlenews) (4.9.3)\n",
      "Requirement already satisfied: dateparser in /opt/conda/lib/python3.8/site-packages (from Googlenews) (1.0.0)\n",
      "Requirement already satisfied: soupsieve>1.2 in /opt/conda/lib/python3.8/site-packages (from beautifulsoup4->Googlenews) (2.2.1)\n",
      "Requirement already satisfied: regex!=2019.02.19 in /opt/conda/lib/python3.8/site-packages (from dateparser->Googlenews) (2021.4.4)\n",
      "Requirement already satisfied: tzlocal in /opt/conda/lib/python3.8/site-packages (from dateparser->Googlenews) (2.1)\n",
      "Requirement already satisfied: pytz in /opt/conda/lib/python3.8/site-packages (from dateparser->Googlenews) (2021.1)\n",
      "Requirement already satisfied: six>=1.5 in /opt/conda/lib/python3.8/site-packages (from python-dateutil->Googlenews) (1.15.0)\n",
      "Note: you may need to restart the kernel to use updated packages.\n"
     ]
    }
   ],
   "source": [
    "pip install Googlenews"
   ]
  },
  {
   "cell_type": "code",
   "execution_count": 2,
   "id": "dd40f521",
   "metadata": {},
   "outputs": [
    {
     "name": "stdout",
     "output_type": "stream",
     "text": [
      "Requirement already satisfied: newspaper3k in /opt/conda/lib/python3.8/site-packages (0.2.8)\n",
      "Requirement already satisfied: tinysegmenter==0.3 in /opt/conda/lib/python3.8/site-packages (from newspaper3k) (0.3)\n",
      "Requirement already satisfied: Pillow>=3.3.0 in /opt/conda/lib/python3.8/site-packages (from newspaper3k) (8.2.0)\n",
      "Requirement already satisfied: PyYAML>=3.11 in /opt/conda/lib/python3.8/site-packages (from newspaper3k) (5.4.1)\n",
      "Requirement already satisfied: nltk>=3.2.1 in /opt/conda/lib/python3.8/site-packages (from newspaper3k) (3.6.2)\n",
      "Requirement already satisfied: feedparser>=5.2.1 in /opt/conda/lib/python3.8/site-packages (from newspaper3k) (6.0.6)\n",
      "Requirement already satisfied: feedfinder2>=0.0.4 in /opt/conda/lib/python3.8/site-packages (from newspaper3k) (0.0.4)\n",
      "Requirement already satisfied: python-dateutil>=2.5.3 in /opt/conda/lib/python3.8/site-packages (from newspaper3k) (2.8.1)\n",
      "Requirement already satisfied: jieba3k>=0.35.1 in /opt/conda/lib/python3.8/site-packages (from newspaper3k) (0.35.1)\n",
      "Requirement already satisfied: cssselect>=0.9.2 in /opt/conda/lib/python3.8/site-packages (from newspaper3k) (1.1.0)\n",
      "Requirement already satisfied: tldextract>=2.0.1 in /opt/conda/lib/python3.8/site-packages (from newspaper3k) (3.1.0)\n",
      "Requirement already satisfied: requests>=2.10.0 in /opt/conda/lib/python3.8/site-packages (from newspaper3k) (2.25.1)\n",
      "Requirement already satisfied: beautifulsoup4>=4.4.1 in /opt/conda/lib/python3.8/site-packages (from newspaper3k) (4.9.3)\n",
      "Requirement already satisfied: lxml>=3.6.0 in /opt/conda/lib/python3.8/site-packages (from newspaper3k) (4.6.3)\n",
      "Requirement already satisfied: soupsieve>1.2 in /opt/conda/lib/python3.8/site-packages (from beautifulsoup4>=4.4.1->newspaper3k) (2.2.1)\n",
      "Requirement already satisfied: six in /opt/conda/lib/python3.8/site-packages (from feedfinder2>=0.0.4->newspaper3k) (1.15.0)\n",
      "Requirement already satisfied: sgmllib3k in /opt/conda/lib/python3.8/site-packages (from feedparser>=5.2.1->newspaper3k) (1.0.0)\n",
      "Requirement already satisfied: joblib in /opt/conda/lib/python3.8/site-packages (from nltk>=3.2.1->newspaper3k) (1.0.1)\n",
      "Requirement already satisfied: regex in /opt/conda/lib/python3.8/site-packages (from nltk>=3.2.1->newspaper3k) (2021.4.4)\n",
      "Requirement already satisfied: tqdm in /opt/conda/lib/python3.8/site-packages (from nltk>=3.2.1->newspaper3k) (4.60.0)\n",
      "Requirement already satisfied: click in /opt/conda/lib/python3.8/site-packages (from nltk>=3.2.1->newspaper3k) (7.1.2)\n",
      "Requirement already satisfied: idna<3,>=2.5 in /opt/conda/lib/python3.8/site-packages (from requests>=2.10.0->newspaper3k) (2.10)\n",
      "Requirement already satisfied: chardet<5,>=3.0.2 in /opt/conda/lib/python3.8/site-packages (from requests>=2.10.0->newspaper3k) (4.0.0)\n",
      "Requirement already satisfied: urllib3<1.27,>=1.21.1 in /opt/conda/lib/python3.8/site-packages (from requests>=2.10.0->newspaper3k) (1.26.4)\n",
      "Requirement already satisfied: certifi>=2017.4.17 in /opt/conda/lib/python3.8/site-packages (from requests>=2.10.0->newspaper3k) (2020.12.5)\n",
      "Requirement already satisfied: filelock>=3.0.8 in /opt/conda/lib/python3.8/site-packages (from tldextract>=2.0.1->newspaper3k) (3.0.12)\n",
      "Requirement already satisfied: requests-file>=1.4 in /opt/conda/lib/python3.8/site-packages (from tldextract>=2.0.1->newspaper3k) (1.5.1)\n",
      "Note: you may need to restart the kernel to use updated packages.\n"
     ]
    }
   ],
   "source": [
    "pip install newspaper3k"
   ]
  },
  {
   "cell_type": "code",
   "execution_count": 3,
   "id": "034ebda4",
   "metadata": {},
   "outputs": [],
   "source": [
    "#import libraries\n",
    "from GoogleNews import GoogleNews\n",
    "from newspaper import Article\n",
    "import pandas as pd\n",
    "import numpy as np\n",
    "from datetime import date\n",
    "\n",
    "#Display full dataFrames\n",
    "pd.set_option(\"display.max_rows\", None, \"display.max_columns\", None)"
   ]
  },
  {
   "cell_type": "code",
   "execution_count": 4,
   "id": "cc5bd2fd",
   "metadata": {},
   "outputs": [],
   "source": [
    "def get_news():\n",
    "    # Automated dates starting today and going back 3 years\n",
    "    start_date ='1/1/{}'.format(date.today().year-3)\n",
    "    end_date = '{}/{}/{}'.format(date.today().month, date.today().day,date.today().year) # Do not change this is today's date\n",
    "\n",
    "    # Initialize GoogleNews() object\n",
    "    googlenews = GoogleNews(start_date, end_date)\n",
    "    \n",
    "    # Set search term(s)\n",
    "    search_term = 'Seattle police'\n",
    "    googlenews.search(search_term)\n",
    "    \n",
    "    return googlenews"
   ]
  },
  {
   "cell_type": "code",
   "execution_count": 5,
   "id": "d585718f",
   "metadata": {},
   "outputs": [],
   "source": [
    "def convert_news(start=2, finish=100):\n",
    "    results_df_list = []\n",
    "    googlenews = get_news()\n",
    "    \n",
    "    results_df_list.append(pd.DataFrame(googlenews.result()))\n",
    "    \n",
    "    for i in range(start,finish): #inclusive\n",
    "        googlenews.getpage(i)\n",
    "        news_df= pd.DataFrame(googlenews.result())\n",
    "        results_df_list.append(news_df)\n",
    "        \n",
    "    return pd.concat(results_df_list)"
   ]
  },
  {
   "cell_type": "code",
   "execution_count": 6,
   "id": "a27af085",
   "metadata": {},
   "outputs": [],
   "source": [
    "def combine_save_df():\n",
    "    all_news = pd.DataFrame(convert_news()).reset_index()\n",
    "    all_news.to_csv(\"news_gathered_data.csv\", index=False)\n",
    "    print('News file has been saved to \\\"news_gathered_data.csv\\\"')\n",
    "    return all_news"
   ]
  },
  {
   "cell_type": "markdown",
   "id": "507eb73f",
   "metadata": {},
   "source": [
    "### Each google news search produces the number of articles on a page (up to 10).  In order to get more information, we need to:\n",
    "1. Iterate through the number of pages wanted, for examle 50 for 500 results\n",
    "2. Turn each resulting result into a dataframe \n",
    "3. Add dataframe to a list\n",
    "4. Concat all all dataframes in list into one large dataframe"
   ]
  },
  {
   "cell_type": "code",
   "execution_count": 7,
   "id": "b353945e",
   "metadata": {},
   "outputs": [
    {
     "name": "stdout",
     "output_type": "stream",
     "text": [
      "'NoneType' object is not iterable\n",
      "'NoneType' object is not iterable\n",
      "'NoneType' object is not iterable\n",
      "'NoneType' object is not iterable\n",
      "'NoneType' object is not iterable\n",
      "'NoneType' object is not iterable\n",
      "'NoneType' object is not iterable\n",
      "'NoneType' object is not iterable\n",
      "'NoneType' object is not iterable\n",
      "'NoneType' object is not iterable\n",
      "'NoneType' object is not iterable\n",
      "'NoneType' object is not iterable\n",
      "'NoneType' object is not iterable\n",
      "'NoneType' object is not iterable\n",
      "'NoneType' object is not iterable\n",
      "'NoneType' object is not iterable\n",
      "'NoneType' object is not iterable\n",
      "'NoneType' object is not iterable\n",
      "'NoneType' object is not iterable\n",
      "'NoneType' object is not iterable\n",
      "'NoneType' object is not iterable\n",
      "'NoneType' object is not iterable\n",
      "'NoneType' object is not iterable\n",
      "'NoneType' object is not iterable\n",
      "'NoneType' object is not iterable\n",
      "'NoneType' object is not iterable\n",
      "'NoneType' object is not iterable\n",
      "'NoneType' object is not iterable\n",
      "'NoneType' object is not iterable\n",
      "'NoneType' object is not iterable\n",
      "'NoneType' object is not iterable\n",
      "'NoneType' object is not iterable\n",
      "'NoneType' object is not iterable\n",
      "'NoneType' object is not iterable\n",
      "'NoneType' object is not iterable\n",
      "'NoneType' object is not iterable\n",
      "'NoneType' object is not iterable\n",
      "'NoneType' object is not iterable\n",
      "'NoneType' object is not iterable\n",
      "'NoneType' object is not iterable\n",
      "'NoneType' object is not iterable\n",
      "'NoneType' object is not iterable\n",
      "'NoneType' object is not iterable\n",
      "'NoneType' object is not iterable\n",
      "'NoneType' object is not iterable\n",
      "'NoneType' object is not iterable\n",
      "'NoneType' object is not iterable\n",
      "'NoneType' object is not iterable\n",
      "'NoneType' object is not iterable\n",
      "'NoneType' object is not iterable\n",
      "'NoneType' object is not iterable\n",
      "'NoneType' object is not iterable\n",
      "'NoneType' object is not iterable\n",
      "'NoneType' object is not iterable\n",
      "'NoneType' object is not iterable\n",
      "'NoneType' object is not iterable\n",
      "'NoneType' object is not iterable\n",
      "'NoneType' object is not iterable\n",
      "'NoneType' object is not iterable\n",
      "'NoneType' object is not iterable\n",
      "'NoneType' object is not iterable\n",
      "'NoneType' object is not iterable\n",
      "'NoneType' object is not iterable\n",
      "'NoneType' object is not iterable\n",
      "'NoneType' object is not iterable\n",
      "'NoneType' object is not iterable\n",
      "'NoneType' object is not iterable\n",
      "'NoneType' object is not iterable\n",
      "'NoneType' object is not iterable\n",
      "'NoneType' object is not iterable\n",
      "'NoneType' object is not iterable\n",
      "News file has been saved to \"news_gathered_data.csv\"\n"
     ]
    },
    {
     "data": {
      "text/plain": [
       "(23796, 8)"
      ]
     },
     "execution_count": 7,
     "metadata": {},
     "output_type": "execute_result"
    }
   ],
   "source": [
    "#Gather data, create dataframe and save as csv file\n",
    "combine_save_df().shape"
   ]
  },
  {
   "cell_type": "code",
   "execution_count": null,
   "id": "3c1ad410",
   "metadata": {},
   "outputs": [],
   "source": []
  },
  {
   "cell_type": "code",
   "execution_count": null,
   "id": "2855181b",
   "metadata": {},
   "outputs": [],
   "source": []
  }
 ],
 "metadata": {
  "kernelspec": {
   "display_name": "Python 3",
   "language": "python",
   "name": "python3"
  },
  "language_info": {
   "codemirror_mode": {
    "name": "ipython",
    "version": 3
   },
   "file_extension": ".py",
   "mimetype": "text/x-python",
   "name": "python",
   "nbconvert_exporter": "python",
   "pygments_lexer": "ipython3",
   "version": "3.8.8"
  }
 },
 "nbformat": 4,
 "nbformat_minor": 5
}
