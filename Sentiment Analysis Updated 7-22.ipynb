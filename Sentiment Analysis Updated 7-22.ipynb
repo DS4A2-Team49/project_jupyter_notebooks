{
 "cells": [
  {
   "cell_type": "markdown",
   "id": "474bd412",
   "metadata": {},
   "source": [
    "After completing our EDA our next step was to begin to understand the thoughts, feelings and emotions of the underrepresented communities. For this, we incorporated Sentiment Analysis (or opinion mining) - a Natural Language Processing Technique. \n",
    "Using our cleaned tokenised dataset, we found the sentiments of each article and then summarized each sentiment or valance. \n",
    "\n",
    "Valance, being the subjectivity or polarity of text, was visualized using pie charts. Polarity is the emotional state represented by Negative, Neutral and Positive or -1, 0 and 1 respectively. Subjectivity is represented by a point between 0 and 1 - 0 being objective and 1 being subjective or highly subjective. \n",
    "\n",
    "How we grouped Polarity scores\n",
    "Positive - Greater than or equal to 0.1 and less than 1\n",
    "Neutral - Equal to 0\n",
    "Negative - Less than 0 and greater than -1\n",
    "\n",
    "How we grouped Subjectivity scores\n",
    "Objective - Less than or equal to 0.4 and greater than or equal to 0\n",
    "Subjective - Greater than or equal to 0.5 and less than 1\n",
    "\n",
    "Below we take you through the process of our text analysis."
   ]
  },
  {
   "cell_type": "code",
   "execution_count": 1,
   "id": "eec51c9b",
   "metadata": {
    "scrolled": false
   },
   "outputs": [
    {
     "name": "stdout",
     "output_type": "stream",
     "text": [
      "Collecting textblob\n",
      "  Using cached textblob-0.15.3-py2.py3-none-any.whl (636 kB)\n",
      "Collecting nltk>=3.1\n",
      "  Using cached nltk-3.6.2-py3-none-any.whl (1.5 MB)\n",
      "Collecting joblib\n",
      "  Using cached joblib-1.0.1-py3-none-any.whl (303 kB)\n",
      "Requirement already satisfied: tqdm in /opt/conda/lib/python3.8/site-packages (from nltk>=3.1->textblob) (4.60.0)\n",
      "Collecting regex\n",
      "  Using cached regex-2021.7.6-cp38-cp38-manylinux2014_x86_64.whl (737 kB)\n",
      "Requirement already satisfied: click in /opt/conda/lib/python3.8/site-packages (from nltk>=3.1->textblob) (8.0.1)\n",
      "Installing collected packages: regex, joblib, nltk, textblob\n",
      "Successfully installed joblib-1.0.1 nltk-3.6.2 regex-2021.7.6 textblob-0.15.3\n"
     ]
    }
   ],
   "source": [
    "!pip install textblob"
   ]
  },
  {
   "cell_type": "code",
   "execution_count": 2,
   "id": "c39c2bb6",
   "metadata": {
    "scrolled": true
   },
   "outputs": [
    {
     "name": "stdout",
     "output_type": "stream",
     "text": [
      "Collecting matplotlib\n",
      "  Using cached matplotlib-3.4.2-cp38-cp38-manylinux1_x86_64.whl (10.3 MB)\n",
      "Collecting kiwisolver>=1.0.1\n",
      "  Using cached kiwisolver-1.3.1-cp38-cp38-manylinux1_x86_64.whl (1.2 MB)\n",
      "Collecting pillow>=6.2.0\n",
      "  Using cached Pillow-8.3.1-cp38-cp38-manylinux_2_5_x86_64.manylinux1_x86_64.whl (3.0 MB)\n",
      "Requirement already satisfied: python-dateutil>=2.7 in /opt/conda/lib/python3.8/site-packages (from matplotlib) (2.8.1)\n",
      "Requirement already satisfied: pyparsing>=2.2.1 in /opt/conda/lib/python3.8/site-packages (from matplotlib) (2.4.7)\n",
      "Collecting cycler>=0.10\n",
      "  Using cached cycler-0.10.0-py2.py3-none-any.whl (6.5 kB)\n",
      "Requirement already satisfied: numpy>=1.16 in /opt/conda/lib/python3.8/site-packages (from matplotlib) (1.20.3)\n",
      "Requirement already satisfied: six in /opt/conda/lib/python3.8/site-packages (from cycler>=0.10->matplotlib) (1.15.0)\n",
      "Installing collected packages: pillow, kiwisolver, cycler, matplotlib\n",
      "Successfully installed cycler-0.10.0 kiwisolver-1.3.1 matplotlib-3.4.2 pillow-8.3.1\n"
     ]
    }
   ],
   "source": [
    "!pip install matplotlib"
   ]
  },
  {
   "cell_type": "code",
   "execution_count": 30,
   "id": "97289af3",
   "metadata": {},
   "outputs": [
    {
     "name": "stdout",
     "output_type": "stream",
     "text": [
      "Collecting seaborn\n",
      "  Using cached seaborn-0.11.1-py3-none-any.whl (285 kB)\n",
      "Requirement already satisfied: matplotlib>=2.2 in /opt/conda/lib/python3.8/site-packages (from seaborn) (3.4.2)\n",
      "Requirement already satisfied: numpy>=1.15 in /opt/conda/lib/python3.8/site-packages (from seaborn) (1.20.3)\n",
      "Requirement already satisfied: pandas>=0.23 in /opt/conda/lib/python3.8/site-packages (from seaborn) (1.2.5)\n",
      "Collecting scipy>=1.0\n",
      "  Using cached scipy-1.7.0-cp38-cp38-manylinux_2_5_x86_64.manylinux1_x86_64.whl (28.4 MB)\n",
      "Requirement already satisfied: python-dateutil>=2.7 in /opt/conda/lib/python3.8/site-packages (from matplotlib>=2.2->seaborn) (2.8.1)\n",
      "Requirement already satisfied: pyparsing>=2.2.1 in /opt/conda/lib/python3.8/site-packages (from matplotlib>=2.2->seaborn) (2.4.7)\n",
      "Requirement already satisfied: kiwisolver>=1.0.1 in /opt/conda/lib/python3.8/site-packages (from matplotlib>=2.2->seaborn) (1.3.1)\n",
      "Requirement already satisfied: pillow>=6.2.0 in /opt/conda/lib/python3.8/site-packages (from matplotlib>=2.2->seaborn) (8.3.1)\n",
      "Requirement already satisfied: cycler>=0.10 in /opt/conda/lib/python3.8/site-packages (from matplotlib>=2.2->seaborn) (0.10.0)\n",
      "Requirement already satisfied: six in /opt/conda/lib/python3.8/site-packages (from cycler>=0.10->matplotlib>=2.2->seaborn) (1.15.0)\n",
      "Requirement already satisfied: pytz>=2017.3 in /opt/conda/lib/python3.8/site-packages (from pandas>=0.23->seaborn) (2021.1)\n",
      "Installing collected packages: scipy, seaborn\n",
      "Successfully installed scipy-1.7.0 seaborn-0.11.1\n"
     ]
    }
   ],
   "source": [
    "!pip install seaborn"
   ]
  },
  {
   "cell_type": "code",
   "execution_count": 31,
   "id": "3f011bc9",
   "metadata": {},
   "outputs": [],
   "source": [
    "import pandas as pd\n",
    "from textblob import TextBlob\n",
    "import matplotlib.pyplot as plt\n",
    "import seaborn as sns\n",
    "import requests\n",
    "import io\n",
    "import os\n",
    "import nltk\n",
    "from nltk.corpus import stopwords\n",
    "from nltk.tokenize import word_tokenize\n",
    "import re"
   ]
  },
  {
   "cell_type": "markdown",
   "id": "708ae41e",
   "metadata": {},
   "source": [
    "<b> READING IN OUR TOKENIZED DATASET OF SEATTLE'S LOCAL AND UNDERREPRESENTED COMMUNITIES ARTICLES WITH A TITLE, MEDIA (SOURCE) AND DESCRIPTION (SUMMARY THAT WAS TOKENIZED) COLUMN.\n",
    "    \n"
   ]
  },
  {
   "cell_type": "code",
   "execution_count": 4,
   "id": "bf698738",
   "metadata": {
    "scrolled": true
   },
   "outputs": [
    {
     "data": {
      "text/html": [
       "<div>\n",
       "<style scoped>\n",
       "    .dataframe tbody tr th:only-of-type {\n",
       "        vertical-align: middle;\n",
       "    }\n",
       "\n",
       "    .dataframe tbody tr th {\n",
       "        vertical-align: top;\n",
       "    }\n",
       "\n",
       "    .dataframe thead th {\n",
       "        text-align: right;\n",
       "    }\n",
       "</style>\n",
       "<table border=\"1\" class=\"dataframe\">\n",
       "  <thead>\n",
       "    <tr style=\"text-align: right;\">\n",
       "      <th></th>\n",
       "      <th>Unnamed: 0</th>\n",
       "      <th>Unnamed: 0.1</th>\n",
       "      <th>Unnamed: 0.1.1</th>\n",
       "      <th>Unnamed: 0.1.1.1</th>\n",
       "      <th>title</th>\n",
       "      <th>media</th>\n",
       "      <th>date</th>\n",
       "      <th>desc</th>\n",
       "      <th>link</th>\n",
       "      <th>Local</th>\n",
       "      <th>newtrititle</th>\n",
       "      <th>newtridesc</th>\n",
       "    </tr>\n",
       "  </thead>\n",
       "  <tbody>\n",
       "    <tr>\n",
       "      <th>0</th>\n",
       "      <td>0</td>\n",
       "      <td>0.0</td>\n",
       "      <td>0.0</td>\n",
       "      <td>0.0</td>\n",
       "      <td>['release', 'video', 'fatal', 'shooting', 'new...</td>\n",
       "      <td>The Seattle Times</td>\n",
       "      <td>2019-01-01</td>\n",
       "      <td>['faletogo', 'died', 'gunshot', 'wound', 'head...</td>\n",
       "      <td>https://www.seattletimes.com/seattle-news/crim...</td>\n",
       "      <td>0</td>\n",
       "      <td>[('release', 'video', 'fatal'), ('video', 'fat...</td>\n",
       "      <td>[('faletogo', 'died', 'gunshot'), ('died', 'gu...</td>\n",
       "    </tr>\n",
       "    <tr>\n",
       "      <th>1</th>\n",
       "      <td>1</td>\n",
       "      <td>1.0</td>\n",
       "      <td>1.0</td>\n",
       "      <td>1.0</td>\n",
       "      <td>['fatal', 'shooting', 'test', 'new', 'accounta...</td>\n",
       "      <td>Crosscut</td>\n",
       "      <td>2019-01-01</td>\n",
       "      <td>['faletogo', 'stopped', 'driving', 'new', 'yea...</td>\n",
       "      <td>https://crosscut.com/2019/01/fatal-seattle-pol...</td>\n",
       "      <td>0</td>\n",
       "      <td>[('fatal', 'shooting', 'test'), ('shooting', '...</td>\n",
       "      <td>[('faletogo', 'stopped', 'driving'), ('stopped...</td>\n",
       "    </tr>\n",
       "    <tr>\n",
       "      <th>2</th>\n",
       "      <td>2</td>\n",
       "      <td>2.0</td>\n",
       "      <td>2.0</td>\n",
       "      <td>2.0</td>\n",
       "      <td>['release', 'body', 'cam', 'footage', 'fatal',...</td>\n",
       "      <td>MyNorthwest.com</td>\n",
       "      <td>2019-01-01</td>\n",
       "      <td>['released', 'body', 'cam', 'footage', 'involv...</td>\n",
       "      <td>https://mynorthwest.com/1232749/seattle-police...</td>\n",
       "      <td>0</td>\n",
       "      <td>[('release', 'body', 'cam'), ('body', 'cam', '...</td>\n",
       "      <td>[('released', 'body', 'cam'), ('body', 'cam', ...</td>\n",
       "    </tr>\n",
       "    <tr>\n",
       "      <th>3</th>\n",
       "      <td>3</td>\n",
       "      <td>3.0</td>\n",
       "      <td>3.0</td>\n",
       "      <td>3.0</td>\n",
       "      <td>['former', 'chief', 'jim', 'pugel', 'run', 'ci...</td>\n",
       "      <td>The Seattle Times</td>\n",
       "      <td>2019-01-01</td>\n",
       "      <td>['two', 'dozen', 'candidate', 'running', 'acro...</td>\n",
       "      <td>https://www.seattletimes.com/seattle-news/poli...</td>\n",
       "      <td>0</td>\n",
       "      <td>[('former', 'chief', 'jim'), ('chief', 'jim', ...</td>\n",
       "      <td>[('two', 'dozen', 'candidate'), ('dozen', 'can...</td>\n",
       "    </tr>\n",
       "    <tr>\n",
       "      <th>4</th>\n",
       "      <td>4</td>\n",
       "      <td>4.0</td>\n",
       "      <td>4.0</td>\n",
       "      <td>4.0</td>\n",
       "      <td>['judge', 'dismisses', 'claim', '2', 'fatal', ...</td>\n",
       "      <td>The Seattle Times</td>\n",
       "      <td>2019-01-01</td>\n",
       "      <td>['lyles', 'history', 'contact', 'call', 'repor...</td>\n",
       "      <td>https://www.seattletimes.com/seattle-news/crim...</td>\n",
       "      <td>0</td>\n",
       "      <td>[('judge', 'dismisses', 'claim'), ('dismisses'...</td>\n",
       "      <td>[('lyles', 'history', 'contact'), ('history', ...</td>\n",
       "    </tr>\n",
       "  </tbody>\n",
       "</table>\n",
       "</div>"
      ],
      "text/plain": [
       "   Unnamed: 0  Unnamed: 0.1  Unnamed: 0.1.1  Unnamed: 0.1.1.1  \\\n",
       "0           0           0.0             0.0               0.0   \n",
       "1           1           1.0             1.0               1.0   \n",
       "2           2           2.0             2.0               2.0   \n",
       "3           3           3.0             3.0               3.0   \n",
       "4           4           4.0             4.0               4.0   \n",
       "\n",
       "                                               title              media  \\\n",
       "0  ['release', 'video', 'fatal', 'shooting', 'new...  The Seattle Times   \n",
       "1  ['fatal', 'shooting', 'test', 'new', 'accounta...           Crosscut   \n",
       "2  ['release', 'body', 'cam', 'footage', 'fatal',...    MyNorthwest.com   \n",
       "3  ['former', 'chief', 'jim', 'pugel', 'run', 'ci...  The Seattle Times   \n",
       "4  ['judge', 'dismisses', 'claim', '2', 'fatal', ...  The Seattle Times   \n",
       "\n",
       "         date                                               desc  \\\n",
       "0  2019-01-01  ['faletogo', 'died', 'gunshot', 'wound', 'head...   \n",
       "1  2019-01-01  ['faletogo', 'stopped', 'driving', 'new', 'yea...   \n",
       "2  2019-01-01  ['released', 'body', 'cam', 'footage', 'involv...   \n",
       "3  2019-01-01  ['two', 'dozen', 'candidate', 'running', 'acro...   \n",
       "4  2019-01-01  ['lyles', 'history', 'contact', 'call', 'repor...   \n",
       "\n",
       "                                                link  Local  \\\n",
       "0  https://www.seattletimes.com/seattle-news/crim...      0   \n",
       "1  https://crosscut.com/2019/01/fatal-seattle-pol...      0   \n",
       "2  https://mynorthwest.com/1232749/seattle-police...      0   \n",
       "3  https://www.seattletimes.com/seattle-news/poli...      0   \n",
       "4  https://www.seattletimes.com/seattle-news/crim...      0   \n",
       "\n",
       "                                         newtrititle  \\\n",
       "0  [('release', 'video', 'fatal'), ('video', 'fat...   \n",
       "1  [('fatal', 'shooting', 'test'), ('shooting', '...   \n",
       "2  [('release', 'body', 'cam'), ('body', 'cam', '...   \n",
       "3  [('former', 'chief', 'jim'), ('chief', 'jim', ...   \n",
       "4  [('judge', 'dismisses', 'claim'), ('dismisses'...   \n",
       "\n",
       "                                          newtridesc  \n",
       "0  [('faletogo', 'died', 'gunshot'), ('died', 'gu...  \n",
       "1  [('faletogo', 'stopped', 'driving'), ('stopped...  \n",
       "2  [('released', 'body', 'cam'), ('body', 'cam', ...  \n",
       "3  [('two', 'dozen', 'candidate'), ('dozen', 'can...  \n",
       "4  [('lyles', 'history', 'contact'), ('history', ...  "
      ]
     },
     "execution_count": 4,
     "metadata": {},
     "output_type": "execute_result"
    }
   ],
   "source": [
    "# infile = 'news_clean_tokens_7-21.csv'\n",
    "\n",
    "# with open(infile, 'r') as csvfile:\n",
    "#     rows = csv.reader(csvfile)\n",
    "    \n",
    "df = pd.read_csv('news_clean_tokens_8-21.csv')\n",
    "df.head()"
   ]
  },
  {
   "cell_type": "markdown",
   "id": "18f1a28f",
   "metadata": {},
   "source": [
    "<b> FINDING SENTIMENTS BY ARTICLE AND ADDING SENTIMENTS COLUMNS TO DATAFRAME </b>\n"
   ]
  },
  {
   "cell_type": "code",
   "execution_count": 5,
   "id": "a9b008e4",
   "metadata": {},
   "outputs": [],
   "source": [
    "import csv\n",
    "infile = 'news_clean_tokens_8-21.csv'"
   ]
  },
  {
   "cell_type": "code",
   "execution_count": 8,
   "id": "4338c528",
   "metadata": {},
   "outputs": [],
   "source": [
    "pol = []\n",
    "sub = []\n",
    "description =[]\n",
    "with open(infile, 'r') as csvfile:\n",
    "    columns = csv.reader(csvfile)\n",
    "    for column in columns:\n",
    "        desc = column[7]\n",
    "        blob = TextBlob(desc)\n",
    "        #print (desc)\n",
    "        #print (blob.sentiment.polarity, blob.sentiment.subjectivity)\n",
    "        p = blob.sentiment.polarity\n",
    "        s = blob.sentiment.subjectivity\n",
    "        #print(p)\n",
    "        pol.append(p)\n",
    "        sub.append(s)\n",
    "        description.append(desc)\n",
    "#print(pol)\n",
    "#print(sub)"
   ]
  },
  {
   "cell_type": "code",
   "execution_count": 9,
   "id": "10ffd41f",
   "metadata": {
    "scrolled": true
   },
   "outputs": [
    {
     "data": {
      "text/html": [
       "<div>\n",
       "<style scoped>\n",
       "    .dataframe tbody tr th:only-of-type {\n",
       "        vertical-align: middle;\n",
       "    }\n",
       "\n",
       "    .dataframe tbody tr th {\n",
       "        vertical-align: top;\n",
       "    }\n",
       "\n",
       "    .dataframe thead th {\n",
       "        text-align: right;\n",
       "    }\n",
       "</style>\n",
       "<table border=\"1\" class=\"dataframe\">\n",
       "  <thead>\n",
       "    <tr style=\"text-align: right;\">\n",
       "      <th></th>\n",
       "      <th>description</th>\n",
       "      <th>polarity</th>\n",
       "      <th>subjectivity</th>\n",
       "    </tr>\n",
       "  </thead>\n",
       "  <tbody>\n",
       "    <tr>\n",
       "      <th>1</th>\n",
       "      <td>['faletogo', 'died', 'gunshot', 'wound', 'head...</td>\n",
       "      <td>0.000000</td>\n",
       "      <td>0.000000</td>\n",
       "    </tr>\n",
       "    <tr>\n",
       "      <th>2</th>\n",
       "      <td>['faletogo', 'stopped', 'driving', 'new', 'yea...</td>\n",
       "      <td>0.136364</td>\n",
       "      <td>0.454545</td>\n",
       "    </tr>\n",
       "    <tr>\n",
       "      <th>3</th>\n",
       "      <td>['released', 'body', 'cam', 'footage', 'involv...</td>\n",
       "      <td>0.000000</td>\n",
       "      <td>0.000000</td>\n",
       "    </tr>\n",
       "    <tr>\n",
       "      <th>4</th>\n",
       "      <td>['two', 'dozen', 'candidate', 'running', 'acro...</td>\n",
       "      <td>0.000000</td>\n",
       "      <td>0.000000</td>\n",
       "    </tr>\n",
       "    <tr>\n",
       "      <th>5</th>\n",
       "      <td>['lyles', 'history', 'contact', 'call', 'repor...</td>\n",
       "      <td>0.000000</td>\n",
       "      <td>0.100000</td>\n",
       "    </tr>\n",
       "    <tr>\n",
       "      <th>...</th>\n",
       "      <td>...</td>\n",
       "      <td>...</td>\n",
       "      <td>...</td>\n",
       "    </tr>\n",
       "    <tr>\n",
       "      <th>23236</th>\n",
       "      <td>['talked', 'mark', 'jamieson', 'say', 'aware',...</td>\n",
       "      <td>0.250000</td>\n",
       "      <td>0.250000</td>\n",
       "    </tr>\n",
       "    <tr>\n",
       "      <th>23237</th>\n",
       "      <td>['woman', 'died', 'three', 'time', 'hit', 'bla...</td>\n",
       "      <td>0.000000</td>\n",
       "      <td>0.000000</td>\n",
       "    </tr>\n",
       "    <tr>\n",
       "      <th>23238</th>\n",
       "      <td>['30', 'year', 'old', 'civilian', 'employee', ...</td>\n",
       "      <td>0.100000</td>\n",
       "      <td>0.200000</td>\n",
       "    </tr>\n",
       "    <tr>\n",
       "      <th>23239</th>\n",
       "      <td>['metro', 'transit', 'nearby', 'department', '...</td>\n",
       "      <td>0.000000</td>\n",
       "      <td>0.000000</td>\n",
       "    </tr>\n",
       "    <tr>\n",
       "      <th>23240</th>\n",
       "      <td>['policing', 'survive', 'without', 'public', '...</td>\n",
       "      <td>0.000000</td>\n",
       "      <td>0.066667</td>\n",
       "    </tr>\n",
       "  </tbody>\n",
       "</table>\n",
       "<p>23240 rows × 3 columns</p>\n",
       "</div>"
      ],
      "text/plain": [
       "                                             description  polarity  \\\n",
       "1      ['faletogo', 'died', 'gunshot', 'wound', 'head...  0.000000   \n",
       "2      ['faletogo', 'stopped', 'driving', 'new', 'yea...  0.136364   \n",
       "3      ['released', 'body', 'cam', 'footage', 'involv...  0.000000   \n",
       "4      ['two', 'dozen', 'candidate', 'running', 'acro...  0.000000   \n",
       "5      ['lyles', 'history', 'contact', 'call', 'repor...  0.000000   \n",
       "...                                                  ...       ...   \n",
       "23236  ['talked', 'mark', 'jamieson', 'say', 'aware',...  0.250000   \n",
       "23237  ['woman', 'died', 'three', 'time', 'hit', 'bla...  0.000000   \n",
       "23238  ['30', 'year', 'old', 'civilian', 'employee', ...  0.100000   \n",
       "23239  ['metro', 'transit', 'nearby', 'department', '...  0.000000   \n",
       "23240  ['policing', 'survive', 'without', 'public', '...  0.000000   \n",
       "\n",
       "       subjectivity  \n",
       "1          0.000000  \n",
       "2          0.454545  \n",
       "3          0.000000  \n",
       "4          0.000000  \n",
       "5          0.100000  \n",
       "...             ...  \n",
       "23236      0.250000  \n",
       "23237      0.000000  \n",
       "23238      0.200000  \n",
       "23239      0.000000  \n",
       "23240      0.066667  \n",
       "\n",
       "[23240 rows x 3 columns]"
      ]
     },
     "execution_count": 9,
     "metadata": {},
     "output_type": "execute_result"
    }
   ],
   "source": [
    "page_columns= {'description': description, 'polarity': pol,'subjectivity': sub}\n",
    "df_ps = pd.DataFrame.from_dict(page_columns)\n",
    "df_ps\n",
    "df_ps = df_ps.drop(labels=0, axis=0)\n",
    "df_ps\n",
    "\n",
    "#solution to index and values problem (ValueError: Length of values (13624) does not match length of index (16291)\n",
    "# df_ps.apply(lambda values: values.drop_duplicates().reset_index(drop=True))\n",
    "\n",
    "\n",
    "\n",
    "# for ind, row in df_ps.itertuples():\n",
    "#     df_ps.loc[ind, 'positive'] = row['polarity']> 0"
   ]
  },
  {
   "cell_type": "markdown",
   "id": "4a15f332",
   "metadata": {},
   "source": [
    "<b> NOW TO CATEGORIZE THE VALANCE/SENTIMENT SCORES UNDER TWO MORE COLUMNS"
   ]
  },
  {
   "cell_type": "code",
   "execution_count": 10,
   "id": "750092c4",
   "metadata": {
    "scrolled": true
   },
   "outputs": [],
   "source": [
    "#now adding positive, negative, neutral, objective and subjective into the valance columns\n",
    "polarity2 = []\n",
    "\n",
    "\n",
    "for value in df_ps['polarity']:\n",
    "    if value >= 0.1 and value <= 1:\n",
    "        polarity2.append(\"positive\")\n",
    "    elif value == 0:\n",
    "        polarity2.append(\"neutral\")\n",
    "    else:\n",
    "        polarity2.append(\"negative\")\n",
    "        \n",
    "df_ps['polarity2'] = polarity2   \n"
   ]
  },
  {
   "cell_type": "code",
   "execution_count": 11,
   "id": "352c9990",
   "metadata": {},
   "outputs": [],
   "source": [
    "subjectivity2 = []\n",
    "for value in df_ps['subjectivity']:\n",
    "    if value >= 0.5:\n",
    "        subjectivity2.append(\"subjective\")\n",
    "    else:\n",
    "        subjectivity2.append(\"objective\")\n",
    "        \n",
    "df_ps['subjectivity2'] = subjectivity2"
   ]
  },
  {
   "cell_type": "code",
   "execution_count": 13,
   "id": "31292883",
   "metadata": {
    "scrolled": false
   },
   "outputs": [
    {
     "data": {
      "text/html": [
       "<div>\n",
       "<style scoped>\n",
       "    .dataframe tbody tr th:only-of-type {\n",
       "        vertical-align: middle;\n",
       "    }\n",
       "\n",
       "    .dataframe tbody tr th {\n",
       "        vertical-align: top;\n",
       "    }\n",
       "\n",
       "    .dataframe thead th {\n",
       "        text-align: right;\n",
       "    }\n",
       "</style>\n",
       "<table border=\"1\" class=\"dataframe\">\n",
       "  <thead>\n",
       "    <tr style=\"text-align: right;\">\n",
       "      <th></th>\n",
       "      <th>description</th>\n",
       "      <th>polarity</th>\n",
       "      <th>subjectivity</th>\n",
       "      <th>polarity2</th>\n",
       "      <th>subjectivity2</th>\n",
       "    </tr>\n",
       "  </thead>\n",
       "  <tbody>\n",
       "    <tr>\n",
       "      <th>1</th>\n",
       "      <td>['faletogo', 'died', 'gunshot', 'wound', 'head...</td>\n",
       "      <td>0.000000</td>\n",
       "      <td>0.000000</td>\n",
       "      <td>neutral</td>\n",
       "      <td>objective</td>\n",
       "    </tr>\n",
       "    <tr>\n",
       "      <th>2</th>\n",
       "      <td>['faletogo', 'stopped', 'driving', 'new', 'yea...</td>\n",
       "      <td>0.136364</td>\n",
       "      <td>0.454545</td>\n",
       "      <td>positive</td>\n",
       "      <td>objective</td>\n",
       "    </tr>\n",
       "    <tr>\n",
       "      <th>3</th>\n",
       "      <td>['released', 'body', 'cam', 'footage', 'involv...</td>\n",
       "      <td>0.000000</td>\n",
       "      <td>0.000000</td>\n",
       "      <td>neutral</td>\n",
       "      <td>objective</td>\n",
       "    </tr>\n",
       "    <tr>\n",
       "      <th>4</th>\n",
       "      <td>['two', 'dozen', 'candidate', 'running', 'acro...</td>\n",
       "      <td>0.000000</td>\n",
       "      <td>0.000000</td>\n",
       "      <td>neutral</td>\n",
       "      <td>objective</td>\n",
       "    </tr>\n",
       "    <tr>\n",
       "      <th>5</th>\n",
       "      <td>['lyles', 'history', 'contact', 'call', 'repor...</td>\n",
       "      <td>0.000000</td>\n",
       "      <td>0.100000</td>\n",
       "      <td>neutral</td>\n",
       "      <td>objective</td>\n",
       "    </tr>\n",
       "  </tbody>\n",
       "</table>\n",
       "</div>"
      ],
      "text/plain": [
       "                                         description  polarity  subjectivity  \\\n",
       "1  ['faletogo', 'died', 'gunshot', 'wound', 'head...  0.000000      0.000000   \n",
       "2  ['faletogo', 'stopped', 'driving', 'new', 'yea...  0.136364      0.454545   \n",
       "3  ['released', 'body', 'cam', 'footage', 'involv...  0.000000      0.000000   \n",
       "4  ['two', 'dozen', 'candidate', 'running', 'acro...  0.000000      0.000000   \n",
       "5  ['lyles', 'history', 'contact', 'call', 'repor...  0.000000      0.100000   \n",
       "\n",
       "  polarity2 subjectivity2  \n",
       "1   neutral     objective  \n",
       "2  positive     objective  \n",
       "3   neutral     objective  \n",
       "4   neutral     objective  \n",
       "5   neutral     objective  "
      ]
     },
     "execution_count": 13,
     "metadata": {},
     "output_type": "execute_result"
    }
   ],
   "source": [
    "df_ps.head()"
   ]
  },
  {
   "cell_type": "markdown",
   "id": "d3019456",
   "metadata": {},
   "source": [
    "<b> MOVING ON TO VISUALIZATION BY SUMMARIZING SENTIMENT - VALANCE </b>\n",
    "    \n",
    "  "
   ]
  },
  {
   "cell_type": "code",
   "execution_count": 37,
   "id": "2cf71a87",
   "metadata": {
    "scrolled": false
   },
   "outputs": [
    {
     "data": {
      "image/png": "[encoded data removed]",
      "text/plain": [
       "<Figure size 504x432 with 1 Axes>"
      ]
     },
     "metadata": {},
     "output_type": "display_data"
    }
   ],
   "source": [
    "sns.set(font_scale=1.4)\n",
    "df_ps['polarity2'].value_counts().plot(kind='bar', figsize=(7, 6), rot=0)\n",
    "plt.xlabel(\"Polarity\", labelpad=14)\n",
    "plt.ylabel(\"Frequency\", labelpad=14)\n",
    "plt.title(\"Polarity distribution of Marginalized Seattle Communities\", y=1.02);\n",
    "\n"
   ]
  },
  {
   "cell_type": "code",
   "execution_count": 38,
   "id": "63d4646b",
   "metadata": {},
   "outputs": [
    {
     "data": {
      "image/png": "[encoded data removed]",
      "text/plain": [
       "<Figure size 504x432 with 1 Axes>"
      ]
     },
     "metadata": {},
     "output_type": "display_data"
    }
   ],
   "source": [
    "df_ps['subjectivity2'].value_counts().plot(kind='bar', figsize=(7, 6), rot=0)\n",
    "plt.xlabel(\"Subjectivity\", labelpad=14)\n",
    "plt.ylabel(\"Frequency\", labelpad=14)\n",
    "plt.title(\"Subjectivity distribution of Marginalized Seattle Communities\", y=1.02);"
   ]
  },
  {
   "cell_type": "code",
   "execution_count": 42,
   "id": "7329ee6b",
   "metadata": {},
   "outputs": [
    {
     "data": {
      "image/png": "[encoded data removed]",
      "text/plain": [
       "<Figure size 494.315x360 with 1 Axes>"
      ]
     },
     "metadata": {},
     "output_type": "display_data"
    }
   ],
   "source": [
    "# df_ps = df.groupby(['polarity2', 'objectivity2']).size().reset_index().pivot(columns='polarity2', index='subjectivity2', values=0)\n",
    "# df_ps.plot(kind='bar', stacked=True)\n",
    "\n",
    "sns.displot(df_ps, x='polarity2', hue='subjectivity2', multiple='stack')\n",
    "plt.xlabel(\"Polarity\", labelpad=14)\n",
    "plt.ylabel(\"Frequency\", labelpad=14)\n",
    "plt.title(\"Polarity and Subjectivity distribution of Marginalized Seattle Communities\", y=1.02);"
   ]
  },
  {
   "cell_type": "code",
   "execution_count": 43,
   "id": "3b3ada9e",
   "metadata": {},
   "outputs": [],
   "source": [
    "my_file ='news_clean_tokens_tableau.csv'\n",
    "df_ps.to_csv(my_file, index=False)\n"
   ]
  },
  {
   "cell_type": "markdown",
   "id": "49ba6a4c",
   "metadata": {},
   "source": [
    "<b> CONGRATS, YOU HAVE COMPLETED YOUR SENTIMENT ANALYSIS!"
   ]
  }
 ],
 "metadata": {
  "kernelspec": {
   "display_name": "Python 3",
   "language": "python",
   "name": "python3"
  },
  "language_info": {
   "codemirror_mode": {
    "name": "ipython",
    "version": 3
   },
   "file_extension": ".py",
   "mimetype": "text/x-python",
   "name": "python",
   "nbconvert_exporter": "python",
   "pygments_lexer": "ipython3",
   "version": "3.8.8"
  }
 },
 "nbformat": 4,
 "nbformat_minor": 5
}
